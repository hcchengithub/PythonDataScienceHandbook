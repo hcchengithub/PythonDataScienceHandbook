{
 "cells": [
  {
   "cell_type": "code",
   "execution_count": null,
   "metadata": {},
   "outputs": [],
   "source": [
    "import numpy as np"
   ]
  },
  {
   "cell_type": "code",
   "execution_count": 7,
   "metadata": {},
   "outputs": [
    {
     "name": "stdout",
     "output_type": "stream",
     "text": [
      "reDef unknown\n",
      "reDef \\\n"
     ]
    }
   ],
   "source": [
    "import peforth\n",
    "peforth.dictate(r'''\n",
    "\\ Now we redefine the 'unknown' command that was do-nothing by default\n",
    ": unknown ( token -- thing Y|N) // Try to find the unknown token in __main__\n",
    "  py> getattr(sys.modules['__main__'],pop(),\"Ûnknôwn\") \n",
    "  py> str(tos())==\"Ûnknôwn\" if drop false else true then ;\n",
    "  /// here after, when FORTH come accross an unknown token, instead of alerting \n",
    "  /// it try to find the token in python __main__ module name space.\n",
    "\n",
    "\\ Redefine \\ command to print the comment line\n",
    "code \\ print(nexttoken('\\n')) end-code \n",
    "''');\n"
   ]
  },
  {
   "cell_type": "code",
   "execution_count": null,
   "metadata": {},
   "outputs": [],
   "source": [
    "?slice\n"
   ]
  },
  {
   "cell_type": "code",
   "execution_count": null,
   "metadata": {},
   "outputs": [],
   "source": [
    "%load "
   ]
  },
  {
   "cell_type": "code",
   "execution_count": null,
   "metadata": {},
   "outputs": [],
   "source": [
    "cols = \"abc\"\n",
    "ind = range(3)\n",
    "data = {c: [str(c) + str(i) for i in ind]\n",
    "            for c in cols}\n",
    "data"
   ]
  },
  {
   "cell_type": "code",
   "execution_count": null,
   "metadata": {},
   "outputs": [],
   "source": [
    "{c:11 for c in cols}"
   ]
  },
  {
   "cell_type": "code",
   "execution_count": null,
   "metadata": {},
   "outputs": [],
   "source": [
    "%f <py> {c for c in \"abc\"} </pyV> tib.\n",
    "%f <py> [c for c in \"abc\"] </pyV> tib.\n",
    "%f <py> (c for c in \"abc\") </pyV> tib.\n",
    "%f <py> (c for c in \"abc\") </pyV> py> list(pop()) tib.\n",
    "\n"
   ]
  },
  {
   "cell_type": "code",
   "execution_count": null,
   "metadata": {},
   "outputs": [],
   "source": [
    "x = [12,34]\n",
    "%f x . cr\n",
    "[x]"
   ]
  },
  {
   "cell_type": "code",
   "execution_count": null,
   "metadata": {},
   "outputs": [],
   "source": [
    "x = np.array([12,34])\n",
    "x\n",
    "[x[:,np.newaxis], [91,92]]\n",
    "x[:,np.newaxis][:,np.newaxis]\n",
    "x[:,np.newaxis][:,np.newaxis][:,np.newaxis]\n",
    "%f \\ --------------------------\n",
    "[x]\n"
   ]
  },
  {
   "cell_type": "code",
   "execution_count": null,
   "metadata": {},
   "outputs": [],
   "source": [
    "x = [12,34]\n",
    "x\n",
    "x[:,np.newaxis]\n",
    "x[:,np.newaxis][:,np.newaxis]\n",
    "x[:,np.newaxis][:,np.newaxis][:,np.newaxis]"
   ]
  },
  {
   "cell_type": "code",
   "execution_count": null,
   "metadata": {},
   "outputs": [],
   "source": [
    "# 憑印象 try mask \n",
    "%f \\ 普通 array 沒有這種能力，這叫 numpy 的啥能力.... 稱作 ufunc (Universal Functions)\n",
    "a = [c for c in \"abcdef\"] \n",
    "a\n",
    "try:\n",
    "    a > 'd'\n",
    "except TypeError as e:\n",
    "    print(e)"
   ]
  },
  {
   "cell_type": "code",
   "execution_count": null,
   "metadata": {},
   "outputs": [],
   "source": [
    "# 憑印象 try numpy array 才有的 mask \n",
    "a = np.array([c for c in \"abcdef\"])\n",
    "a < 'd'\n",
    "a[a < 'd']\n"
   ]
  },
  {
   "cell_type": "code",
   "execution_count": null,
   "metadata": {},
   "outputs": [],
   "source": [
    "%load?"
   ]
  },
  {
   "cell_type": "markdown",
   "metadata": {},
   "source": [
    "### WKS 主管餐廳菜單\n",
    "<img src=\"http://localhost:8888/notebooks/Downloads/%E4%B8%BB%E7%AE%A1%E9%A4%90%E5%BB%B3%E8%8F%9C%E5%96%AE.jpg\" width=80%>"
   ]
  },
  {
   "cell_type": "code",
   "execution_count": null,
   "metadata": {},
   "outputs": [],
   "source": [
    "%run peforth.ipynb"
   ]
  },
  {
   "cell_type": "code",
   "execution_count": null,
   "metadata": {
    "scrolled": true
   },
   "outputs": [],
   "source": [
    "data = {c: [str(c) + str(i) for i in range(3)]\n",
    "            for c in \"ABC\"}\n",
    "data\n",
    "%f data type tib."
   ]
  },
  {
   "cell_type": "code",
   "execution_count": 22,
   "metadata": {},
   "outputs": [
    {
     "name": "stdout",
     "output_type": "stream",
     "text": [
      "Automatic pdb calling has been turned OFF\n"
     ]
    }
   ],
   "source": [
    "%pdb off"
   ]
  },
  {
   "cell_type": "markdown",
   "metadata": {},
   "source": [
    "# 用來漂亮顯示多個 DataFrames 的 class 設計 \n",
    "\n",
    "這個 utility 有很多特點，非常值得學習。\n",
    "\n",
    "1. 直接使用 class, 而不先產生 instance 然後才拿該 instance 來用。活脫的地方是，利用 class 有很多約定既有的 method 之特性，把呼叫 calss 時的 arguments 用適當的 HTML 或 plain text 顯示出來，漂亮！\n",
    "2. `_repr_html_(self)` method 是用 HTML 格式漂漂亮亮地顯示 DataFrame 這是 pandas 本來就有提供給 df 的 built-in method.\n",
    "3. 我沒用過的 class 輸入啟始 arguments 的方式。\n",
    "    "
   ]
  },
  {
   "cell_type": "code",
   "execution_count": 21,
   "metadata": {},
   "outputs": [
    {
     "name": "stdout",
     "output_type": "stream",
     "text": [
      "Automatic pdb calling has been turned OFF\n"
     ]
    },
    {
     "data": {
      "text/html": [
       "<div>\n",
       "<style>\n",
       "    .dataframe thead tr:only-child th {\n",
       "        text-align: right;\n",
       "    }\n",
       "\n",
       "    .dataframe thead th {\n",
       "        text-align: left;\n",
       "    }\n",
       "\n",
       "    .dataframe tbody tr th {\n",
       "        vertical-align: top;\n",
       "    }\n",
       "</style>\n",
       "<table border=\"1\" class=\"dataframe\">\n",
       "  <thead>\n",
       "    <tr style=\"text-align: right;\">\n",
       "      <th></th>\n",
       "      <th>A</th>\n",
       "      <th>B</th>\n",
       "      <th>C</th>\n",
       "    </tr>\n",
       "  </thead>\n",
       "  <tbody>\n",
       "    <tr>\n",
       "      <th>0</th>\n",
       "      <td>A0</td>\n",
       "      <td>B0</td>\n",
       "      <td>C0</td>\n",
       "    </tr>\n",
       "    <tr>\n",
       "      <th>1</th>\n",
       "      <td>A1</td>\n",
       "      <td>B1</td>\n",
       "      <td>C1</td>\n",
       "    </tr>\n",
       "    <tr>\n",
       "      <th>2</th>\n",
       "      <td>A2</td>\n",
       "      <td>B2</td>\n",
       "      <td>C2</td>\n",
       "    </tr>\n",
       "  </tbody>\n",
       "</table>\n",
       "</div>"
      ],
      "text/plain": [
       "    A   B   C\n",
       "0  A0  B0  C0\n",
       "1  A1  B1  C1\n",
       "2  A2  B2  C2"
      ]
     },
     "execution_count": 21,
     "metadata": {},
     "output_type": "execute_result"
    }
   ],
   "source": [
    "import peforth\n",
    "import pandas as pd\n",
    "class display(object):\n",
    "    \"\"\"Display HTML representation of multiple objects\"\"\"\n",
    "    template = \"\"\"<div style=\"float: left; padding: 10px;\">\n",
    "    <p style='font-family:\"Courier New\", Courier, monospace'>{0}</p>{1}\n",
    "    </div>\"\"\"\n",
    "    def __init__(self, *args):\n",
    "        peforth.ok('11>',loc=locals(),cmd=\":> [0] constant locals // ( -- locals ) in the __init__ method\")\n",
    "        self.args = args\n",
    "        peforth.ok('1122>',loc=locals(),cmd=\":> [0] constant locals // ( -- locals ) in the __init__ method\")\n",
    "        \n",
    "    def _repr_html_(self):\n",
    "        peforth.ok('22>',loc=locals(),cmd=\":> [0] constant locals // ( -- locals ) in the _repr_html_ method\")\n",
    "        return '\\n'.join(self.template.format(a, eval(a)._repr_html_())\n",
    "                         for a in self.args)\n",
    "    \n",
    "    def __repr__(self):\n",
    "        peforth.ok('33>',loc=locals(),cmd=\":> [0] constant locals // ( -- locals ) in the __repr__ method\")\n",
    "        return '\\n\\n'.join(a + '\\n' + repr(eval(a))\n",
    "                           for a in self.args)\n",
    "    \n",
    "\n",
    "def make_df(cols, ind):\n",
    "    \"\"\"Quickly make a DataFrame\"\"\"\n",
    "    data = {c: [str(c) + str(i) for i in ind]\n",
    "            for c in cols}\n",
    "    return pd.DataFrame(data, ind)  # ind 即 index, 可用 range, list, tuple, or set <-- 自動排序 \n",
    "\n",
    "# example DataFrame\n",
    "make_df('ABC', range(3))"
   ]
  },
  {
   "cell_type": "code",
   "execution_count": 3,
   "metadata": {
    "collapsed": true
   },
   "outputs": [
    {
     "name": "stdout",
     "output_type": "stream",
     "text": [
      "11>\n",
      "11>\n",
      "11>\n",
      "11>words\n",
      "code end-code \\ // <selftest> </selftest> bye /// unknown immediate stop compyle trim indent -indent <py> </py> </pyV> words . cr help interpret-only compile-only literal reveal privacy (create) : ; ( BL CR word ' , [compile] py: py> py:~ py>~ 0branch here! here swap ! @ ? >r r> r@ drop dup over 0< + * - / 1+ 2+ 1- 2- compile if then compiling char last version execute cls private nonprivate (space) exit ret rescan-word-hash (') branch bool and or not (forget) AND OR NOT XOR true false \"\" [] {} none >> << 0= 0> 0<> 0<= 0>= = == > < != >= <= abs max min doVar doNext depth pick roll space [ ] colon-word create (marker) marker next abort alias <> public nip rot -rot 2drop 2dup invert negate within ['] allot for begin until again ahead never repeat aft else while ?stop ?dup variable +! chars spaces .( .\" .' s\" s' s` does> count accept <accept> nop </accept> \u0004 case of endof endcase refill [else] [if] [then] (::) (:>) :: :> ::~ :>~ \"msg\"abort abort\" \"msg\"?abort ?abort\" '<text> (<text>) <text> </text> <comment> </comment> (constant) constant value to tib. >t t@ t> [begin] [again] [until] [for] [next] __main__ import module modules int float drops dropall char>ASCII ASCII>char CRLF ASCII .s (*debug*) *debug* readTextFile writeTextFile tib.insert dictate sinclude include break-include type obj>keys obj2dict stringify toString .literal .function (dump) dump dump2ret d (see) see slice screen-buffer display-off display-on WshShell inport harry_port OK _dir_ dir keys (pyclude) pyclude .members .source dos cd --- locals \n",
      "11>locals keys . cr\n",
      "dict_keys(['args', 'self'])\n",
      "11>locals :> ['args'] . cr\n",
      "('df1', 'df2', 'pd.concat([df1, df2])')\n",
      "11>locals :> ['self'] type . cr\n",
      "<class '__main__.display'>\n",
      "11>locals :> ['self'] (see)\n",
      "{\n",
      "    \"__class__\": \"display\",\n",
      "    \"__module__\": \"__main__\",\n",
      "    \"__doc__\": \"Display HTML representation of multiple objects\"\n",
      "}\n",
      "11>locals :> ['self'] dir . cr\n",
      "['template']\n",
      "11>locals :> ['self']['template'] . cr\n",
      "\n",
      "Failed in </py> (compiling=False): 'display' object is not subscriptable\n",
      "Body:\n",
      "push(pop()['self']['template'])\n",
      "11>locals :> ['self'].template . cr\n",
      "<div style=\"float: left; padding: 10px;\">\n",
      "    <p style='font-family:\"Courier New\", Courier, monospace'>{0}</p>{1}\n",
      "    </div>\n",
      "11>exit\n",
      "11>reDef locals\n",
      "1122>\n",
      "1122>\n",
      "1122>exit\n",
      "1122>reDef locals\n",
      "33>\n",
      "33>\n",
      "33>\n",
      "33>exit\n",
      "33>reDef locals\n",
      "22>exit\n",
      "22>"
     ]
    },
    {
     "data": {
      "text/html": [
       "<div style=\"float: left; padding: 10px;\">\n",
       "    <p style='font-family:\"Courier New\", Courier, monospace'>df1</p><div>\n",
       "<style>\n",
       "    .dataframe thead tr:only-child th {\n",
       "        text-align: right;\n",
       "    }\n",
       "\n",
       "    .dataframe thead th {\n",
       "        text-align: left;\n",
       "    }\n",
       "\n",
       "    .dataframe tbody tr th {\n",
       "        vertical-align: top;\n",
       "    }\n",
       "</style>\n",
       "<table border=\"1\" class=\"dataframe\">\n",
       "  <thead>\n",
       "    <tr style=\"text-align: right;\">\n",
       "      <th></th>\n",
       "      <th>A</th>\n",
       "      <th>B</th>\n",
       "    </tr>\n",
       "  </thead>\n",
       "  <tbody>\n",
       "    <tr>\n",
       "      <th>1</th>\n",
       "      <td>A1</td>\n",
       "      <td>B1</td>\n",
       "    </tr>\n",
       "    <tr>\n",
       "      <th>2</th>\n",
       "      <td>A2</td>\n",
       "      <td>B2</td>\n",
       "    </tr>\n",
       "  </tbody>\n",
       "</table>\n",
       "</div>\n",
       "    </div>\n",
       "<div style=\"float: left; padding: 10px;\">\n",
       "    <p style='font-family:\"Courier New\", Courier, monospace'>df2</p><div>\n",
       "<style>\n",
       "    .dataframe thead tr:only-child th {\n",
       "        text-align: right;\n",
       "    }\n",
       "\n",
       "    .dataframe thead th {\n",
       "        text-align: left;\n",
       "    }\n",
       "\n",
       "    .dataframe tbody tr th {\n",
       "        vertical-align: top;\n",
       "    }\n",
       "</style>\n",
       "<table border=\"1\" class=\"dataframe\">\n",
       "  <thead>\n",
       "    <tr style=\"text-align: right;\">\n",
       "      <th></th>\n",
       "      <th>A</th>\n",
       "      <th>B</th>\n",
       "    </tr>\n",
       "  </thead>\n",
       "  <tbody>\n",
       "    <tr>\n",
       "      <th>3</th>\n",
       "      <td>A3</td>\n",
       "      <td>B3</td>\n",
       "    </tr>\n",
       "    <tr>\n",
       "      <th>4</th>\n",
       "      <td>A4</td>\n",
       "      <td>B4</td>\n",
       "    </tr>\n",
       "  </tbody>\n",
       "</table>\n",
       "</div>\n",
       "    </div>\n",
       "<div style=\"float: left; padding: 10px;\">\n",
       "    <p style='font-family:\"Courier New\", Courier, monospace'>pd.concat([df1, df2])</p><div>\n",
       "<style>\n",
       "    .dataframe thead tr:only-child th {\n",
       "        text-align: right;\n",
       "    }\n",
       "\n",
       "    .dataframe thead th {\n",
       "        text-align: left;\n",
       "    }\n",
       "\n",
       "    .dataframe tbody tr th {\n",
       "        vertical-align: top;\n",
       "    }\n",
       "</style>\n",
       "<table border=\"1\" class=\"dataframe\">\n",
       "  <thead>\n",
       "    <tr style=\"text-align: right;\">\n",
       "      <th></th>\n",
       "      <th>A</th>\n",
       "      <th>B</th>\n",
       "    </tr>\n",
       "  </thead>\n",
       "  <tbody>\n",
       "    <tr>\n",
       "      <th>1</th>\n",
       "      <td>A1</td>\n",
       "      <td>B1</td>\n",
       "    </tr>\n",
       "    <tr>\n",
       "      <th>2</th>\n",
       "      <td>A2</td>\n",
       "      <td>B2</td>\n",
       "    </tr>\n",
       "    <tr>\n",
       "      <th>3</th>\n",
       "      <td>A3</td>\n",
       "      <td>B3</td>\n",
       "    </tr>\n",
       "    <tr>\n",
       "      <th>4</th>\n",
       "      <td>A4</td>\n",
       "      <td>B4</td>\n",
       "    </tr>\n",
       "  </tbody>\n",
       "</table>\n",
       "</div>\n",
       "    </div>"
      ],
      "text/plain": [
       "df1\n",
       "    A   B\n",
       "1  A1  B1\n",
       "2  A2  B2\n",
       "\n",
       "df2\n",
       "    A   B\n",
       "3  A3  B3\n",
       "4  A4  B4\n",
       "\n",
       "pd.concat([df1, df2])\n",
       "    A   B\n",
       "1  A1  B1\n",
       "2  A2  B2\n",
       "3  A3  B3\n",
       "4  A4  B4"
      ]
     },
     "execution_count": 3,
     "metadata": {},
     "output_type": "execute_result"
    }
   ],
   "source": [
    "df1 = make_df('AB', [1, 2])\n",
    "df2 = make_df('AB', [3, 4])\n",
    "display('df1', 'df2', 'pd.concat([df1, df2])')  # default axis=0 or 'rows'"
   ]
  },
  {
   "cell_type": "markdown",
   "metadata": {},
   "source": [
    "我看懂了，這個 `<div>` 的 style 就是讓這些 DIV 橫向並著放，而非平常的往下長。這 DIV 裡面有一 P 就是 title 其下就是 data-frame 的表格。\n",
    "\n",
    "    <o>\n",
    "    <div style=\"float: left; padding: 10px;\"><p style='font-family:\"Courier New\", Courier, monospace'>{0}</p>{1}</div>\n",
    "    <div style=\"float: left; padding: 10px;\"><p style='font-family:\"Courier New\", Courier, monospace'>{2}</p>{3}</div>\n",
    "    <div style=\"float: left; padding: 10px;\"><p style='font-family:\"Courier New\", Courier, monospace'>{4}</p>{5}</div>\n",
    "    </o>\n",
    "\n",
    "結果如下:\n",
    "\n",
    "    {0} {2} {4}\n",
    "        \n",
    "    {1} {3} {5}\n",
    "\n",
    "這只解釋了大體的結構，沒有解釋 DataFrame 怎麼印得這麼漂亮？原因是 DataFrame 本身就有個 `._repr_html_()` method，如下顯示："
   ]
  },
  {
   "cell_type": "code",
   "execution_count": 8,
   "metadata": {},
   "outputs": [
    {
     "name": "stdout",
     "output_type": "stream",
     "text": [
      "<div>\n",
      "<style>\n",
      "    .dataframe thead tr:only-child th {\n",
      "        text-align: right;\n",
      "    }\n",
      "\n",
      "    .dataframe thead th {\n",
      "        text-align: left;\n",
      "    }\n",
      "\n",
      "    .dataframe tbody tr th {\n",
      "        vertical-align: top;\n",
      "    }\n",
      "</style>\n",
      "<table border=\"1\" class=\"dataframe\">\n",
      "  <thead>\n",
      "    <tr style=\"text-align: right;\">\n",
      "      <th></th>\n",
      "      <th>A</th>\n",
      "      <th>B</th>\n",
      "    </tr>\n",
      "  </thead>\n",
      "  <tbody>\n",
      "    <tr>\n",
      "      <th>1</th>\n",
      "      <td>A1</td>\n",
      "      <td>B1</td>\n",
      "    </tr>\n",
      "    <tr>\n",
      "      <th>2</th>\n",
      "      <td>A2</td>\n",
      "      <td>B2</td>\n",
      "    </tr>\n",
      "  </tbody>\n",
      "</table>\n",
      "</div>\n"
     ]
    }
   ],
   "source": [
    "%f df1 :> _repr_html_() . cr"
   ]
  },
  {
   "cell_type": "code",
   "execution_count": 20,
   "metadata": {},
   "outputs": [
    {
     "name": "stdout",
     "output_type": "stream",
     "text": [
      "    A   B\n",
      "1  A1  B1\n",
      "2  A2  B2\n",
      "用 text mode 印出來用的是 __repr__\n",
      "\n",
      "<bound method StringMixin.__repr__ of     A   B\n",
      "1  A1  B1\n",
      "2  A2  B2>\n",
      "就像這樣\n"
     ]
    },
    {
     "data": {
      "text/html": [
       "<div>\n",
       "<style>\n",
       "    .dataframe thead tr:only-child th {\n",
       "        text-align: right;\n",
       "    }\n",
       "\n",
       "    .dataframe thead th {\n",
       "        text-align: left;\n",
       "    }\n",
       "\n",
       "    .dataframe tbody tr th {\n",
       "        vertical-align: top;\n",
       "    }\n",
       "</style>\n",
       "<table border=\"1\" class=\"dataframe\">\n",
       "  <thead>\n",
       "    <tr style=\"text-align: right;\">\n",
       "      <th></th>\n",
       "      <th>A</th>\n",
       "      <th>B</th>\n",
       "    </tr>\n",
       "  </thead>\n",
       "  <tbody>\n",
       "    <tr>\n",
       "      <th>1</th>\n",
       "      <td>A1</td>\n",
       "      <td>B1</td>\n",
       "    </tr>\n",
       "    <tr>\n",
       "      <th>2</th>\n",
       "      <td>A2</td>\n",
       "      <td>B2</td>\n",
       "    </tr>\n",
       "  </tbody>\n",
       "</table>\n",
       "</div>"
      ],
      "text/plain": [
       "    A   B\n",
       "1  A1  B1\n",
       "2  A2  B2"
      ]
     },
     "execution_count": 20,
     "metadata": {},
     "output_type": "execute_result"
    }
   ],
   "source": [
    "%f df1 . cr \\ 用 text mode 印出來用的是 __repr__ \n",
    "%f cr df1 :> __repr__ . cr \\ 就像這樣\n",
    "df1"
   ]
  },
  {
   "cell_type": "markdown",
   "metadata": {},
   "source": [
    "### 下面這種寫法是我比較熟悉的\n",
    "\n",
    "Initialize my_class 時的 arguments 是從 `__init__()` 送進去的。而且是用 variable name 送進去。相對於上面的寫法，初始 arguments 定義在 `my_class()` 處而非 `__init__()` 而且似乎只能接受 type 如 object, int, float 等, 到了 `__init__()` 處則用 `*args` 來取得實際給進來的 arguments. "
   ]
  },
  {
   "cell_type": "code",
   "execution_count": 49,
   "metadata": {},
   "outputs": [
    {
     "data": {
      "text/html": [
       "<h1> ~ 4 ~ </h1>"
      ],
      "text/plain": [
       "4"
      ]
     },
     "execution_count": 49,
     "metadata": {},
     "output_type": "execute_result"
    },
    {
     "name": "stdout",
     "output_type": "stream",
     "text": [
      "8\n"
     ]
    }
   ],
   "source": [
    "class my_class:\n",
    "    def __init__(self, x):\n",
    "        self.args = x+1\n",
    "        \n",
    "    def _repr_html_(self):\n",
    "        return \"<h1> ~ \" + str(self.args) + \" ~ </h1>\"\n",
    "    \n",
    "    def __repr__(self):\n",
    "        return str(self.args)\n",
    "\n",
    "my_class(3)\n",
    "print(my_class(7))"
   ]
  },
  {
   "cell_type": "markdown",
   "metadata": {},
   "source": [
    "### 重複一下這個新方法"
   ]
  },
  {
   "cell_type": "code",
   "execution_count": 50,
   "metadata": {},
   "outputs": [
    {
     "data": {
      "text/html": [
       "<h1> ~ 4 ~ </h1>"
      ],
      "text/plain": [
       "4"
      ]
     },
     "execution_count": 50,
     "metadata": {},
     "output_type": "execute_result"
    },
    {
     "name": "stdout",
     "output_type": "stream",
     "text": [
      "8\n"
     ]
    }
   ],
   "source": [
    "class my_class(object):\n",
    "    def __init__(self, *args):\n",
    "        self.args = args[0]+1\n",
    "        \n",
    "    def _repr_html_(self):\n",
    "        return \"<h1> ~ \" + str(self.args) + \" ~ </h1>\"\n",
    "    \n",
    "    def __repr__(self):\n",
    "        return str(self.args)\n",
    "\n",
    "my_class(3)\n",
    "print(my_class(7))"
   ]
  }
 ],
 "metadata": {
  "kernelspec": {
   "display_name": "Python 3",
   "language": "python",
   "name": "python3"
  },
  "language_info": {
   "codemirror_mode": {
    "name": "ipython",
    "version": 3
   },
   "file_extension": ".py",
   "mimetype": "text/x-python",
   "name": "python",
   "nbconvert_exporter": "python",
   "pygments_lexer": "ipython3",
   "version": "3.6.0"
  }
 },
 "nbformat": 4,
 "nbformat_minor": 2
}
